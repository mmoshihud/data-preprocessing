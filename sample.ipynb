{
 "cells": [
  {
   "cell_type": "code",
   "id": "e7290a652a74844",
   "metadata": {
    "ExecuteTime": {
     "end_time": "2024-10-12T20:07:03.619893Z",
     "start_time": "2024-10-12T20:07:03.615896Z"
    }
   },
   "source": [
    "import numpy as np\n",
    "import matplotlib.pyplot as plt\n",
    "import pandas as pd"
   ],
   "outputs": [],
   "execution_count": 12
  },
  {
   "cell_type": "code",
   "id": "7f7f782e07257627",
   "metadata": {
    "ExecuteTime": {
     "end_time": "2024-10-12T20:07:03.627526Z",
     "start_time": "2024-10-12T20:07:03.621900Z"
    }
   },
   "source": [
    "dataset = pd.read_csv('Data.csv')\n",
    "x = dataset.iloc[:, :-1].values\n",
    "y = dataset.iloc[:, -1].values"
   ],
   "outputs": [],
   "execution_count": 13
  },
  {
   "metadata": {
    "ExecuteTime": {
     "end_time": "2024-10-12T20:07:03.648865Z",
     "start_time": "2024-10-12T20:07:03.628532Z"
    }
   },
   "cell_type": "code",
   "source": "print(x)",
   "id": "943e7d713179366d",
   "outputs": [
    {
     "name": "stdout",
     "output_type": "stream",
     "text": [
      "[['France' 44.0 72000.0]\n",
      " ['Spain' 27.0 48000.0]\n",
      " ['Germany' 30.0 54000.0]\n",
      " ['Spain' 38.0 61000.0]\n",
      " ['Germany' 40.0 nan]\n",
      " ['France' 35.0 58000.0]\n",
      " ['Spain' nan 52000.0]\n",
      " ['France' 48.0 79000.0]\n",
      " ['Germany' 50.0 83000.0]\n",
      " ['France' 37.0 67000.0]]\n"
     ]
    }
   ],
   "execution_count": 14
  },
  {
   "metadata": {
    "ExecuteTime": {
     "end_time": "2024-10-12T20:07:03.653683Z",
     "start_time": "2024-10-12T20:07:03.650990Z"
    }
   },
   "cell_type": "code",
   "source": "print(y)",
   "id": "6b0ed5bda2e55117",
   "outputs": [
    {
     "name": "stdout",
     "output_type": "stream",
     "text": [
      "['No' 'Yes' 'No' 'No' 'Yes' 'Yes' 'No' 'Yes' 'No' 'Yes']\n"
     ]
    }
   ],
   "execution_count": 15
  },
  {
   "metadata": {},
   "cell_type": "markdown",
   "source": "# Taking care of Missing Data",
   "id": "f492696d19ba9d2b"
  },
  {
   "metadata": {
    "ExecuteTime": {
     "end_time": "2024-10-12T20:07:03.659041Z",
     "start_time": "2024-10-12T20:07:03.654690Z"
    }
   },
   "cell_type": "code",
   "source": [
    "from sklearn.impute import SimpleImputer\n",
    "imputer = SimpleImputer(missing_values=np.nan, strategy='mean')\n",
    "imputer.fit(x[:, 1:3])\n",
    "x[:,1:3]=  imputer.transform(x[:, 1:3])"
   ],
   "id": "6fe1f5bfb5f94bcd",
   "outputs": [],
   "execution_count": 16
  },
  {
   "metadata": {
    "ExecuteTime": {
     "end_time": "2024-10-12T20:07:03.663342Z",
     "start_time": "2024-10-12T20:07:03.660174Z"
    }
   },
   "cell_type": "code",
   "source": "print(x)",
   "id": "1b389e6f00d6aa12",
   "outputs": [
    {
     "name": "stdout",
     "output_type": "stream",
     "text": [
      "[['France' 44.0 72000.0]\n",
      " ['Spain' 27.0 48000.0]\n",
      " ['Germany' 30.0 54000.0]\n",
      " ['Spain' 38.0 61000.0]\n",
      " ['Germany' 40.0 63777.77777777778]\n",
      " ['France' 35.0 58000.0]\n",
      " ['Spain' 38.77777777777778 52000.0]\n",
      " ['France' 48.0 79000.0]\n",
      " ['Germany' 50.0 83000.0]\n",
      " ['France' 37.0 67000.0]]\n"
     ]
    }
   ],
   "execution_count": 17
  }
 ],
 "metadata": {
  "kernelspec": {
   "display_name": "Python 3 (ipykernel)",
   "language": "python",
   "name": "python3"
  },
  "language_info": {
   "codemirror_mode": {
    "name": "ipython",
    "version": 3
   },
   "file_extension": ".py",
   "mimetype": "text/x-python",
   "name": "python",
   "nbconvert_exporter": "python",
   "pygments_lexer": "ipython3",
   "version": "3.11.7"
  }
 },
 "nbformat": 4,
 "nbformat_minor": 5
}
